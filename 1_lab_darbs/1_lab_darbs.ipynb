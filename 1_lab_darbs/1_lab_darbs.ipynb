{
 "cells": [
  {
   "cell_type": "code",
   "execution_count": 16,
   "metadata": {
    "collapsed": false
   },
   "outputs": [],
   "source": [
    "from pyspark import SparkContext\n",
    "from pyspark.sql import *\n",
    "import string\n",
    "from pyspark.sql.window import Window\n",
    "from pyspark.sql.functions import rank, col, regexp_replace\n",
    "from urllib.parse import *\n",
    "from pyspark.sql.types import TimestampType\n",
    "import re"
   ]
  },
  {
   "cell_type": "code",
   "execution_count": 2,
   "metadata": {
    "collapsed": false
   },
   "outputs": [],
   "source": [
    "sc = SparkContext()\n",
    "sqlContext = SQLContext(sc)"
   ]
  },
  {
   "cell_type": "code",
   "execution_count": 3,
   "metadata": {
    "collapsed": false
   },
   "outputs": [],
   "source": [
    "spark = SparkSession \\\n",
    " .builder \\\n",
    " .getOrCreate()"
   ]
  },
  {
   "cell_type": "code",
   "execution_count": 9,
   "metadata": {
    "collapsed": true
   },
   "outputs": [],
   "source": [
    "df = sqlContext.read.format('com.databricks.spark.csv').options(header='true', inferschema='true').load('tweets.csv')"
   ]
  },
  {
   "cell_type": "code",
   "execution_count": 10,
   "metadata": {
    "collapsed": true
   },
   "outputs": [],
   "source": [
    "df_usr = sqlContext.read.format('com.databricks.spark.csv').options(header='true', inferschema='true').load('users.csv')"
   ]
  },
  {
   "cell_type": "code",
   "execution_count": 11,
   "metadata": {
    "collapsed": false
   },
   "outputs": [
    {
     "name": "stdout",
     "output_type": "stream",
     "text": [
      "root\n",
      " |-- user_id: string (nullable = true)\n",
      " |-- user_key: string (nullable = true)\n",
      " |-- created_at: string (nullable = true)\n",
      " |-- created_str: string (nullable = true)\n",
      " |-- retweet_count: string (nullable = true)\n",
      " |-- retweeted: string (nullable = true)\n",
      " |-- favorite_count: string (nullable = true)\n",
      " |-- text: string (nullable = true)\n",
      " |-- tweet_id: string (nullable = true)\n",
      " |-- source: string (nullable = true)\n",
      " |-- hashtags: string (nullable = true)\n",
      " |-- expanded_urls: string (nullable = true)\n",
      " |-- posted: string (nullable = true)\n",
      " |-- mentions: string (nullable = true)\n",
      " |-- retweeted_status_id: string (nullable = true)\n",
      " |-- in_reply_to_status_id: string (nullable = true)\n",
      "\n"
     ]
    }
   ],
   "source": [
    "df.printSchema()"
   ]
  },
  {
   "cell_type": "markdown",
   "metadata": {
    "collapsed": true
   },
   "source": [
    "Iegūt no datu kopas šādu informāciju:\n",
    "\n",
    "Tvītu un Twitter lietotāju tabulu ierakstu skaitu"
   ]
  },
  {
   "cell_type": "code",
   "execution_count": 6,
   "metadata": {
    "collapsed": false
   },
   "outputs": [
    {
     "data": {
      "text/plain": [
       "[('user_id', 'string'),\n",
       " ('user_key', 'string'),\n",
       " ('created_at', 'string'),\n",
       " ('created_str', 'string'),\n",
       " ('retweet_count', 'string'),\n",
       " ('retweeted', 'string'),\n",
       " ('favorite_count', 'string'),\n",
       " ('text', 'string'),\n",
       " ('tweet_id', 'string'),\n",
       " ('source', 'string'),\n",
       " ('hashtags', 'string'),\n",
       " ('expanded_urls', 'string'),\n",
       " ('posted', 'string'),\n",
       " ('mentions', 'string'),\n",
       " ('retweeted_status_id', 'string'),\n",
       " ('in_reply_to_status_id', 'string')]"
      ]
     },
     "execution_count": 6,
     "metadata": {},
     "output_type": "execute_result"
    }
   ],
   "source": [
    "df.dtypes"
   ]
  },
  {
   "cell_type": "code",
   "execution_count": 12,
   "metadata": {
    "collapsed": false
   },
   "outputs": [
    {
     "data": {
      "text/plain": [
       "207249"
      ]
     },
     "execution_count": 12,
     "metadata": {},
     "output_type": "execute_result"
    }
   ],
   "source": [
    "#Twītu skaits\n",
    "df.count()"
   ]
  },
  {
   "cell_type": "code",
   "execution_count": 13,
   "metadata": {
    "collapsed": false
   },
   "outputs": [
    {
     "data": {
      "text/plain": [
       "454"
      ]
     },
     "execution_count": 13,
     "metadata": {},
     "output_type": "execute_result"
    }
   ],
   "source": [
    "# Twitter lietotāju skaits\n",
    "df_usr.count()"
   ]
  },
  {
   "cell_type": "markdown",
   "metadata": {},
   "source": [
    "Agrāko un vēlāko (pēc datuma/laika) datos esošo Twitter ziņu."
   ]
  },
  {
   "cell_type": "code",
   "execution_count": 23,
   "metadata": {
    "collapsed": false
   },
   "outputs": [],
   "source": [
    "# Maina datu tipu created_str kolonnai us timestamp\n",
    "df = df.withColumn(\"created_str\", df[\"created_str\"].cast(TimestampType()))\n",
    "\n",
    "# Attīra Hashtag kolonnu no nevajadzīgiem simboliem\n",
    "df = df.withColumn('hashtags_cl', regexp_replace('hashtags', '\\W', ''))\n",
    "\n",
    "# Izveido temp view\n",
    "df.createOrReplaceTempView(\"tweets\")"
   ]
  },
  {
   "cell_type": "code",
   "execution_count": 24,
   "metadata": {
    "collapsed": false
   },
   "outputs": [
    {
     "name": "stdout",
     "output_type": "stream",
     "text": [
      "root\n",
      " |-- user_id: string (nullable = true)\n",
      " |-- user_key: string (nullable = true)\n",
      " |-- created_at: string (nullable = true)\n",
      " |-- created_str: timestamp (nullable = true)\n",
      " |-- retweet_count: string (nullable = true)\n",
      " |-- retweeted: string (nullable = true)\n",
      " |-- favorite_count: string (nullable = true)\n",
      " |-- text: string (nullable = true)\n",
      " |-- tweet_id: string (nullable = true)\n",
      " |-- source: string (nullable = true)\n",
      " |-- hashtags: string (nullable = true)\n",
      " |-- expanded_urls: string (nullable = true)\n",
      " |-- posted: string (nullable = true)\n",
      " |-- mentions: string (nullable = true)\n",
      " |-- retweeted_status_id: string (nullable = true)\n",
      " |-- in_reply_to_status_id: string (nullable = true)\n",
      " |-- hashtags_cl: string (nullable = true)\n",
      "\n"
     ]
    }
   ],
   "source": [
    "df.printSchema()"
   ]
  },
  {
   "cell_type": "code",
   "execution_count": 25,
   "metadata": {
    "collapsed": false
   },
   "outputs": [
    {
     "data": {
      "text/plain": [
       "Row(tweet_id='488745973032964096', text='I am in Love with LOVE!', created_str=datetime.datetime(2014, 7, 14, 18, 4, 55))"
      ]
     },
     "execution_count": 25,
     "metadata": {},
     "output_type": "execute_result"
    }
   ],
   "source": [
    "#agrakais\n",
    "spark.sql(\"\"\"select tweet_id,text,created_str\n",
    "             from tweets \n",
    "             order by created_str\"\"\").na.drop().first()"
   ]
  },
  {
   "cell_type": "code",
   "execution_count": 27,
   "metadata": {
    "collapsed": false
   },
   "outputs": [
    {
     "data": {
      "text/plain": [
       "Row(tweet_id='912604038692261888', text='Pal�stinenser erschie�t Israelis � Attent�ter tot https://t.co/F4aO6rgWWV', created_str=datetime.datetime(2017, 9, 26, 9, 5, 32))"
      ]
     },
     "execution_count": 27,
     "metadata": {},
     "output_type": "execute_result"
    }
   ],
   "source": [
    "#vēlākais\n",
    "spark.sql(\"\"\"select tweet_id,text,created_str\n",
    "             from tweets \n",
    "             order by created_str desc\"\"\").first()"
   ]
  },
  {
   "cell_type": "markdown",
   "metadata": {},
   "source": [
    "20 aktīvākos tvītu autorus un to tvītu skaitu, sakārtotus dilstošā tvītu skaita secībā"
   ]
  },
  {
   "cell_type": "code",
   "execution_count": 28,
   "metadata": {
    "collapsed": false
   },
   "outputs": [
    {
     "name": "stdout",
     "output_type": "stream",
     "text": [
      "+----------+---------------+-----------+\n",
      "|   user_id|       user_key|tweet_count|\n",
      "+----------+---------------+-----------+\n",
      "|1679279490|  ameliebaldwin|       9269|\n",
      "|1671234620|        hyddrox|       6813|\n",
      "|2882013788|    giselleevns|       6652|\n",
      "|2671070290|   patriotblake|       4140|\n",
      "|4508630900| thefoundingson|       3663|\n",
      "|1727482238| melvinsroberts|       3346|\n",
      "|1768259989|   mrclydepratt|       3263|\n",
      "|1868496344|  brianaregland|       3261|\n",
      "|2572058134|  leroylovesusa|       3229|\n",
      "|1658420976|      baobaeham|       3215|\n",
      "|1655194147|  melanymelanin|       3212|\n",
      "|1658202894|    laurabaeley|       3201|\n",
      "|1623180199| jeffreykahunas|       3197|\n",
      "|1684524144|   datwisenigga|       3197|\n",
      "|4224729994|        ten_gop|       3194|\n",
      "|1676481360|    emileewaren|       3192|\n",
      "|1660771422|garrettsimpson_|       3188|\n",
      "|1694026190|jacquelinisbest|       3169|\n",
      "|1649967228|     _nickluna_|       3159|\n",
      "|1690487623|   michellearry|       3156|\n",
      "+----------+---------------+-----------+\n",
      "\n"
     ]
    }
   ],
   "source": [
    "(spark.sql(\"\"\"select user_id,user_key,count(*) as tweet_count \n",
    "             from tweets group by user_id,user_key\"\"\")\n",
    "    .orderBy(\"tweet_count\", ascending=False)\n",
    "    .limit(20)\n",
    "    .show())"
   ]
  },
  {
   "cell_type": "markdown",
   "metadata": {},
   "source": [
    "20 populārākos tvītos pieminētos hashtagus, sakārtotus dilstošā secībā pēc tvītu skaita, kur tie pieminēti"
   ]
  },
  {
   "cell_type": "code",
   "execution_count": 31,
   "metadata": {
    "collapsed": false
   },
   "outputs": [
    {
     "data": {
      "text/plain": [
       "[('\"[\"\"Blacklivesmatter\"\"]\"',\n",
       "  'One of the ways to remind that #BlackLivesMatter #BlackPressDay',\n",
       "  2),\n",
       " ('[]',\n",
       "  'Bewaffnete attackieren Bus mit koptischen Christen #Islamisten #ISIS \\nhttps://t.co/YFtCatLk0m',\n",
       "  2),\n",
       " ('\"[\"\"STOPIslam\"\"]\"',\n",
       "  '@sendavidperdue How are they gonna protect us if they just let a bunch of terrorist walk the cities of our city? #StopIslam #IslamKills',\n",
       "  2),\n",
       " ('\"[\"\"whenthestarsgoblue\"\"]\"',\n",
       "  'RT @hldb73: Bryan or Ryan Adams  #whenthestarsgoblue #RejectedDebateTopics @WorldOfHashtags @TheRyanAdams @bryanadams https://t.co/wFBdne8K…',\n",
       "  2),\n",
       " ('\"[\"\"mutual\"\"]\"',\n",
       "  'RT @WorldTruthTV: #mutual #respect https://t.co/auIjJ2RdBU',\n",
       "  2),\n",
       " ('\"[\"\"OneLetterOffSports\"\"]\"',\n",
       "  'Kareem Abdul Jabber #OneLetterOffSports @midnight #HashtagWars',\n",
       "  2),\n",
       " ('\"[\"\"God\"\"]\"',\n",
       "  '#God can be realized through all paths. All #religions...',\n",
       "  2),\n",
       " ('\"[\"\"2017trendsreport\"\"]\"',\n",
       "  'RT @NBLmusicSalerno: #2017trendsreport Follow Mio Paisan @SleepSkee #Excellent @Twitter @LoveQuotes #RT #UrgentAction WE Love REAL TALK @sc…',\n",
       "  4),\n",
       " ('\"[\"\"Merkel\"\"]\"',\n",
       "  'Kanzlerin, die von dem Volk gewählt wurde! #Merkel #Deutschland https://t.co/jxcJAkmLPf',\n",
       "  2),\n",
       " ('[]',\n",
       "  'RT @IsraelandStufff: Teenage #Palestinian #Arab #terrorist gets 12 years in prison for attempted murder in #Jerusalem stabbing\\n\\nAhmad... ht…',\n",
       "  4)]"
      ]
     },
     "execution_count": 31,
     "metadata": {},
     "output_type": "execute_result"
    }
   ],
   "source": [
    "# Hashtag kolonna izskatās formatēta list formātā, tāpēc vēlējos noskaidrot,\n",
    "# kā tiek atdalītas vērtības, kad tekstā ir vairāk par vienu hashtagu.\n",
    "# Tomēr aplūkojot rezultātus var secināt, ka kollonā sastopams tikai pirmais\n",
    "# hashtags.\n",
    "df.select('text','hashtags')\\\n",
    "    .rdd.map(lambda x:(x['hashtags'],x['text'],x['text'].count('#')))\\\n",
    "    .filter(lambda x:x[2]>1)\\\n",
    "    .take(10)\n"
   ]
  },
  {
   "cell_type": "code",
   "execution_count": 33,
   "metadata": {
    "collapsed": false
   },
   "outputs": [
    {
     "data": {
      "text/plain": [
       "[('#politics', 3605),\n",
       " ('#tcot', 2742),\n",
       " ('#MAGA', 2168),\n",
       " ('#PJNET', 2085),\n",
       " ('#news', 2040),\n",
       " ('#Trump', 1536),\n",
       " ('#Merkelmussbleiben', 1081),\n",
       " ('#TrumpForPresident', 1065),\n",
       " ('#WakeUpAmerica', 1021),\n",
       " ('#TCOT', 901),\n",
       " ('#IslamKills', 896),\n",
       " ('#NeverHillary', 889),\n",
       " ('#ccot', 861),\n",
       " ('#2A', 848),\n",
       " ('#Trump2016', 840),\n",
       " ('#TrumpPence16', 680),\n",
       " ('#RejectedDebateTopics', 671),\n",
       " ('#BlackLivesMatter', 641),\n",
       " ('#CCOT', 641),\n",
       " ('#ThingsYouCantIgnore', 630)]"
      ]
     },
     "execution_count": 33,
     "metadata": {},
     "output_type": "execute_result"
    }
   ],
   "source": [
    "# Tāpēc hashtagus pamēģinām izgūt no text kolonnas.\n",
    "df.select('text').na.drop()\\\n",
    "    .rdd.flatMap(lambda x: x['text'].split())\\\n",
    "    .filter(lambda x:x[0]=='#')\\\n",
    "    .map(lambda hst: (hst, 1)) \\\n",
    "    .reduceByKey(lambda a, b: a + b)\\\n",
    "    .sortBy(lambda x:-x[1])\\\n",
    "    .take(20)\n",
    "    "
   ]
  },
  {
   "cell_type": "markdown",
   "metadata": {},
   "source": [
    "20 populārākos URL, kas pieminēti tvītos - te ir jāizmanto izvērstie URL, nevis t.co saīsinātie URL"
   ]
  },
  {
   "cell_type": "code",
   "execution_count": 15,
   "metadata": {
    "collapsed": false
   },
   "outputs": [
    {
     "data": {
      "text/plain": [
       "[('https://twibble.io', 326),\n",
       " ('<a href=http://twitter.com rel=nofollow>Twitter Web Client</a>', 154),\n",
       " ('<a href=https://about.twitter.com/products/tweetdeck rel=nofollow>TweetDeck</a>',\n",
       "  52),\n",
       " ('http://USFREEDOMARMY.COM', 18),\n",
       " ('http://dailycaller.com/2016/09/16/just-5-7-percent-of-clinton-foundation-budget-actually-went-to-charity/',\n",
       "  16),\n",
       " ('https://twitter.com/gloed_up/status/765196453677527040', 15),\n",
       " ('https://twitter.com/reddroostermann/status/771026812566642688', 14),\n",
       " ('http://www.vox.com/2016/7/30/12332922/donald-trump-khan-muslim?utm_campaign=vox&utm_content=chorus&utm_medium=social&utm_source=twitter',\n",
       "  13),\n",
       " ('https://twitter.com/hillaryclinton/status/776783575375028224', 12),\n",
       " ('http://wh.gov/iFE5w', 12),\n",
       " ('http://www.breitbart.com/big-government/2016/09/16/msnbc-politico-bloomberg-cnn-mcclatchy-confirm-hillary-clintons-2008-campaign-spread-birtherism/',\n",
       "  12),\n",
       " ('http://proudemocrat.com/watch-amal-clooney-just-owned-donald-trump-video/#',\n",
       "  12),\n",
       " ('https://twitter.com/filthycult2/status/788749887328301056', 11),\n",
       " ('https://twitter.com/jimasher/status/776633213015982080', 10),\n",
       " ('https://twitter.com/abcliz/status/777347015982415872', 10),\n",
       " ('http://thehill.com/blogs/ballot-box/presidential-races/296342-nations-largest-police-union-endorses-trump',\n",
       "  10),\n",
       " ('https://twitter.com/stuartpstevens/status/759439254619615236', 10),\n",
       " ('http://nypost.com/2016/09/18/black-voters-are-turning-from-clinton-to-trump-in-new-poll/',\n",
       "  10),\n",
       " ('https://twitter.com/HillaryClinton/status/776783575375028224', 10),\n",
       " ('http://www.truth-out.org/opinion/item/36853-president-obama-s-lethal-climate-legacy',\n",
       "  9)]"
      ]
     },
     "execution_count": 15,
     "metadata": {},
     "output_type": "execute_result"
    }
   ],
   "source": [
    "df.select(\"expanded_urls\").na.drop()\\\n",
    "    .rdd.map(lambda x: x['expanded_urls'].replace('\"','').replace('[','').replace(']',''))\\\n",
    "    .filter(lambda x: \"http\" in x)\\\n",
    "    .map(lambda link: (link, 1)) \\\n",
    "    .reduceByKey(lambda a, b: a + b)\\\n",
    "    .sortBy(lambda x:-x[1])\\\n",
    "    .take(20)"
   ]
  },
  {
   "cell_type": "markdown",
   "metadata": {},
   "source": [
    "tvītu skaitu pa mēnešiem"
   ]
  },
  {
   "cell_type": "code",
   "execution_count": 34,
   "metadata": {
    "collapsed": false
   },
   "outputs": [
    {
     "name": "stdout",
     "output_type": "stream",
     "text": [
      "+--------+-----------+\n",
      "|cr_month|tweet_count|\n",
      "+--------+-----------+\n",
      "|      12|      24356|\n",
      "|       1|      25007|\n",
      "|       6|       5352|\n",
      "|       3|      14303|\n",
      "|       5|       4480|\n",
      "|       9|      26011|\n",
      "|       4|       7284|\n",
      "|       8|      14092|\n",
      "|       7|      12925|\n",
      "|      10|      29053|\n",
      "|      11|      23164|\n",
      "|       2|      17434|\n",
      "+--------+-----------+\n",
      "\n"
     ]
    }
   ],
   "source": [
    "spark.sql(\"\"\"select month(created_str) as cr_month\n",
    "                    ,count(*) as tweet_count\n",
    "             from tweets\n",
    "             group by month(created_str)\n",
    "\"\"\").na.drop().show()"
   ]
  },
  {
   "cell_type": "markdown",
   "metadata": {
    "collapsed": true
   },
   "source": [
    "informāciju par katra mēneša 5 populārākajiem hashtagiem"
   ]
  },
  {
   "cell_type": "code",
   "execution_count": 35,
   "metadata": {
    "collapsed": false
   },
   "outputs": [],
   "source": [
    "df_month_ht = spark.sql(\"\"\"select month(created_str) as cr_month,hashtags_cl, count(*) as ht_count\n",
    "                           from tweets\n",
    "                           where hashtags_cl != ''\n",
    "                           group by month(created_str),hashtags_cl\n",
    "\"\"\").na.drop()"
   ]
  },
  {
   "cell_type": "code",
   "execution_count": 36,
   "metadata": {
    "collapsed": false
   },
   "outputs": [
    {
     "name": "stdout",
     "output_type": "stream",
     "text": [
      "+--------+--------------------+--------+----+\n",
      "|cr_month|         hashtags_cl|ht_count|rank|\n",
      "+--------+--------------------+--------+----+\n",
      "|      12| ThingsYouCantIgnore|     523|   1|\n",
      "|      12|  ChristmasAftermath|     492|   2|\n",
      "|      12| IdRunForPresidentIf|     491|   3|\n",
      "|      12|GiftIdeasForPolit...|     453|   4|\n",
      "|      12|        2016In4Words|     413|   5|\n",
      "|       1|          ItsRiskyTo|     434|   1|\n",
      "|       1|    2017SurvivalTips|     280|   2|\n",
      "|       1|    ReasonsToProtest|     270|   3|\n",
      "|       1|     IHaveADreamThat|     263|   4|\n",
      "|       1|      PotusLastTweet|     254|   5|\n",
      "|       6|        SummerAMovie|     135|   1|\n",
      "|       6|                news|     111|   2|\n",
      "|       6|        2016election|      65|   3|\n",
      "|       6|                tcot|      59|   4|\n",
      "|       6|               local|      52|   5|\n",
      "|       3|          IslamKills|     474|   1|\n",
      "|       3|   NoCyberCensorship|     242|   2|\n",
      "|       3|           STOPIslam|     200|   3|\n",
      "|       3|            Brussels|     189|   4|\n",
      "|       3|  PhosphorusDisaster|     117|   5|\n",
      "+--------+--------------------+--------+----+\n",
      "only showing top 20 rows\n",
      "\n"
     ]
    }
   ],
   "source": [
    "window = Window.partitionBy(df_month_ht['cr_month']).orderBy(df_month_ht['ht_count'].desc())\n",
    "\n",
    "df_month_ht.select('*', rank().over(window).alias('rank'))\\\n",
    "  .filter(col('rank') <= 5) \\\n",
    "  .show() "
   ]
  },
  {
   "cell_type": "markdown",
   "metadata": {
    "collapsed": true
   },
   "source": [
    "20 populārāko saišu domēni"
   ]
  },
  {
   "cell_type": "code",
   "execution_count": 37,
   "metadata": {
    "collapsed": false
   },
   "outputs": [],
   "source": [
    "def returnDomain (urlstr):\n",
    "    url = re.search(\"(?P<url>https?://[^\\s]+)\", urlstr).group(\"url\")\n",
    "    parsed_uri = urlparse(url)\n",
    "    domain = '{uri.scheme}://{uri.netloc}/'.format(uri=parsed_uri)\n",
    "    if (domain != ':///'):\n",
    "        return domain\n",
    "    else: return urlstr"
   ]
  },
  {
   "cell_type": "code",
   "execution_count": 38,
   "metadata": {
    "collapsed": false
   },
   "outputs": [
    {
     "data": {
      "text/plain": [
       "[('https://twitter.com/', 5834),\n",
       " ('http://bit.ly/', 3998),\n",
       " ('http://wapo.st/', 449),\n",
       " ('http://ln.is/', 395),\n",
       " ('https://twibble.io/', 326),\n",
       " ('http://sh.st/', 297),\n",
       " ('http://dlvr.it/', 296),\n",
       " ('http://www.breitbart.com/', 288),\n",
       " ('http://fb.me/', 238),\n",
       " ('https://youtu.be/', 228),\n",
       " ('http://twitter.com/', 182),\n",
       " ('http://hill.cm/', 182),\n",
       " ('https://www.youtube.com/', 172),\n",
       " ('http://dailycaller.com/', 154),\n",
       " ('http://ow.ly/', 150),\n",
       " ('http://dailym.ai/', 134),\n",
       " ('http://www.huffingtonpost.com/', 124),\n",
       " ('https://goo.gl/', 121),\n",
       " ('http://politi.co/', 120),\n",
       " ('http://on.rt.com/', 119)]"
      ]
     },
     "execution_count": 38,
     "metadata": {},
     "output_type": "execute_result"
    }
   ],
   "source": [
    "df.select(\"expanded_urls\").na.drop()\\\n",
    "    .rdd.map(lambda x: x['expanded_urls'].replace('\"','').replace('[','').replace(']',''))\\\n",
    "    .filter(lambda x: \"http\" in x)\\\n",
    "    .map(lambda link: (returnDomain(link), 1)) \\\n",
    "    .reduceByKey(lambda a, b: a + b)\\\n",
    "    .sortBy(lambda x:-x[1])\\\n",
    "    .take(20)"
   ]
  },
  {
   "cell_type": "markdown",
   "metadata": {},
   "source": [
    "Twītu skaits, kuros pieminēta H. Klintone vai Tramps"
   ]
  },
  {
   "cell_type": "code",
   "execution_count": 21,
   "metadata": {
    "collapsed": false
   },
   "outputs": [
    {
     "data": {
      "text/plain": [
       "[('TRUMP', 19858), ('CLINTON', 9224)]"
      ]
     },
     "execution_count": 21,
     "metadata": {},
     "output_type": "execute_result"
    }
   ],
   "source": [
    "df.select('text').na.drop()\\\n",
    "    .rdd.flatMap(lambda x: x['text'].upper().split())\\\n",
    "    .filter(lambda x:x in ('TRUMP','CLINTON'))\\\n",
    "    .map(lambda hst: (hst, 1)) \\\n",
    "    .reduceByKey(lambda a, b: a + b)\\\n",
    "    .sortBy(lambda x:-x[1])\\\n",
    "    .take(20)"
   ]
  },
  {
   "cell_type": "code",
   "execution_count": null,
   "metadata": {
    "collapsed": true
   },
   "outputs": [],
   "source": []
  }
 ],
 "metadata": {
  "anaconda-cloud": {},
  "kernelspec": {
   "display_name": "Python [Root]",
   "language": "python",
   "name": "Python [Root]"
  },
  "language_info": {
   "codemirror_mode": {
    "name": "ipython",
    "version": 3
   },
   "file_extension": ".py",
   "mimetype": "text/x-python",
   "name": "python",
   "nbconvert_exporter": "python",
   "pygments_lexer": "ipython3",
   "version": "3.5.2"
  }
 },
 "nbformat": 4,
 "nbformat_minor": 0
}
